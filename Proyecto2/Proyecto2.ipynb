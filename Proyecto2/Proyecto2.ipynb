{
  "nbformat": 4,
  "nbformat_minor": 0,
  "metadata": {
    "colab": {
      "provenance": [],
      "authorship_tag": "ABX9TyPkmaVCaq/h9Rur+alqhBQs"
    },
    "kernelspec": {
      "name": "python3",
      "display_name": "Python 3"
    },
    "language_info": {
      "name": "python"
    }
  },
  "cells": [
    {
      "cell_type": "markdown",
      "source": [
        "# Prediccion de ingresos (Negocio de helados)"
      ],
      "metadata": {
        "id": "pb6nwIhUMfi-"
      }
    },
    {
      "cell_type": "markdown",
      "source": [
        "En este notebook se creara un modelo capaz de predecir los ingresos diarios en dolares basados en la temperatura (Celsius). El data set utilizado fue publicado en Kaggle https://www.kaggle.com/datasets/vinicius150987/ice-cream-revenue"
      ],
      "metadata": {
        "id": "oESTn_dZMub0"
      }
    },
    {
      "cell_type": "markdown",
      "source": [
        "### Librerias utilizadas"
      ],
      "metadata": {
        "id": "BtuCVd9cM5bE"
      }
    },
    {
      "cell_type": "code",
      "execution_count": 1,
      "metadata": {
        "id": "mtm2XKodKm2y"
      },
      "outputs": [],
      "source": [
        "import tensorflow as tf\n",
        "import pandas as pd\n",
        "import numpy as np\n",
        "import seaborn as sns\n",
        "import matplotlib.pyplot as plt"
      ]
    },
    {
      "cell_type": "markdown",
      "source": [
        "### Cargamos el dataset (.csv)"
      ],
      "metadata": {
        "id": "sQ9ep3cQNCq_"
      }
    },
    {
      "cell_type": "code",
      "source": [
        "data_df = pd.read_csv('/content/IceCreamData.csv')\n",
        "data_df"
      ],
      "metadata": {
        "colab": {
          "base_uri": "https://localhost:8080/",
          "height": 424
        },
        "id": "J9TTvL_QNR0r",
        "outputId": "bce58685-1178-459e-ca57-aeb822ed98a2"
      },
      "execution_count": 2,
      "outputs": [
        {
          "output_type": "execute_result",
          "data": {
            "text/plain": [
              "     Temperature     Revenue\n",
              "0      24.566884  534.799028\n",
              "1      26.005191  625.190122\n",
              "2      27.790554  660.632289\n",
              "3      20.595335  487.706960\n",
              "4      11.503498  316.240194\n",
              "..           ...         ...\n",
              "495    22.274899  524.746364\n",
              "496    32.893092  755.818399\n",
              "497    12.588157  306.090719\n",
              "498    22.362402  566.217304\n",
              "499    28.957736  655.660388\n",
              "\n",
              "[500 rows x 2 columns]"
            ],
            "text/html": [
              "\n",
              "  <div id=\"df-dbf4822b-2d16-44d2-9a18-b5a571c5d045\">\n",
              "    <div class=\"colab-df-container\">\n",
              "      <div>\n",
              "<style scoped>\n",
              "    .dataframe tbody tr th:only-of-type {\n",
              "        vertical-align: middle;\n",
              "    }\n",
              "\n",
              "    .dataframe tbody tr th {\n",
              "        vertical-align: top;\n",
              "    }\n",
              "\n",
              "    .dataframe thead th {\n",
              "        text-align: right;\n",
              "    }\n",
              "</style>\n",
              "<table border=\"1\" class=\"dataframe\">\n",
              "  <thead>\n",
              "    <tr style=\"text-align: right;\">\n",
              "      <th></th>\n",
              "      <th>Temperature</th>\n",
              "      <th>Revenue</th>\n",
              "    </tr>\n",
              "  </thead>\n",
              "  <tbody>\n",
              "    <tr>\n",
              "      <th>0</th>\n",
              "      <td>24.566884</td>\n",
              "      <td>534.799028</td>\n",
              "    </tr>\n",
              "    <tr>\n",
              "      <th>1</th>\n",
              "      <td>26.005191</td>\n",
              "      <td>625.190122</td>\n",
              "    </tr>\n",
              "    <tr>\n",
              "      <th>2</th>\n",
              "      <td>27.790554</td>\n",
              "      <td>660.632289</td>\n",
              "    </tr>\n",
              "    <tr>\n",
              "      <th>3</th>\n",
              "      <td>20.595335</td>\n",
              "      <td>487.706960</td>\n",
              "    </tr>\n",
              "    <tr>\n",
              "      <th>4</th>\n",
              "      <td>11.503498</td>\n",
              "      <td>316.240194</td>\n",
              "    </tr>\n",
              "    <tr>\n",
              "      <th>...</th>\n",
              "      <td>...</td>\n",
              "      <td>...</td>\n",
              "    </tr>\n",
              "    <tr>\n",
              "      <th>495</th>\n",
              "      <td>22.274899</td>\n",
              "      <td>524.746364</td>\n",
              "    </tr>\n",
              "    <tr>\n",
              "      <th>496</th>\n",
              "      <td>32.893092</td>\n",
              "      <td>755.818399</td>\n",
              "    </tr>\n",
              "    <tr>\n",
              "      <th>497</th>\n",
              "      <td>12.588157</td>\n",
              "      <td>306.090719</td>\n",
              "    </tr>\n",
              "    <tr>\n",
              "      <th>498</th>\n",
              "      <td>22.362402</td>\n",
              "      <td>566.217304</td>\n",
              "    </tr>\n",
              "    <tr>\n",
              "      <th>499</th>\n",
              "      <td>28.957736</td>\n",
              "      <td>655.660388</td>\n",
              "    </tr>\n",
              "  </tbody>\n",
              "</table>\n",
              "<p>500 rows × 2 columns</p>\n",
              "</div>\n",
              "      <button class=\"colab-df-convert\" onclick=\"convertToInteractive('df-dbf4822b-2d16-44d2-9a18-b5a571c5d045')\"\n",
              "              title=\"Convert this dataframe to an interactive table.\"\n",
              "              style=\"display:none;\">\n",
              "        \n",
              "  <svg xmlns=\"http://www.w3.org/2000/svg\" height=\"24px\"viewBox=\"0 0 24 24\"\n",
              "       width=\"24px\">\n",
              "    <path d=\"M0 0h24v24H0V0z\" fill=\"none\"/>\n",
              "    <path d=\"M18.56 5.44l.94 2.06.94-2.06 2.06-.94-2.06-.94-.94-2.06-.94 2.06-2.06.94zm-11 1L8.5 8.5l.94-2.06 2.06-.94-2.06-.94L8.5 2.5l-.94 2.06-2.06.94zm10 10l.94 2.06.94-2.06 2.06-.94-2.06-.94-.94-2.06-.94 2.06-2.06.94z\"/><path d=\"M17.41 7.96l-1.37-1.37c-.4-.4-.92-.59-1.43-.59-.52 0-1.04.2-1.43.59L10.3 9.45l-7.72 7.72c-.78.78-.78 2.05 0 2.83L4 21.41c.39.39.9.59 1.41.59.51 0 1.02-.2 1.41-.59l7.78-7.78 2.81-2.81c.8-.78.8-2.07 0-2.86zM5.41 20L4 18.59l7.72-7.72 1.47 1.35L5.41 20z\"/>\n",
              "  </svg>\n",
              "      </button>\n",
              "      \n",
              "  <style>\n",
              "    .colab-df-container {\n",
              "      display:flex;\n",
              "      flex-wrap:wrap;\n",
              "      gap: 12px;\n",
              "    }\n",
              "\n",
              "    .colab-df-convert {\n",
              "      background-color: #E8F0FE;\n",
              "      border: none;\n",
              "      border-radius: 50%;\n",
              "      cursor: pointer;\n",
              "      display: none;\n",
              "      fill: #1967D2;\n",
              "      height: 32px;\n",
              "      padding: 0 0 0 0;\n",
              "      width: 32px;\n",
              "    }\n",
              "\n",
              "    .colab-df-convert:hover {\n",
              "      background-color: #E2EBFA;\n",
              "      box-shadow: 0px 1px 2px rgba(60, 64, 67, 0.3), 0px 1px 3px 1px rgba(60, 64, 67, 0.15);\n",
              "      fill: #174EA6;\n",
              "    }\n",
              "\n",
              "    [theme=dark] .colab-df-convert {\n",
              "      background-color: #3B4455;\n",
              "      fill: #D2E3FC;\n",
              "    }\n",
              "\n",
              "    [theme=dark] .colab-df-convert:hover {\n",
              "      background-color: #434B5C;\n",
              "      box-shadow: 0px 1px 3px 1px rgba(0, 0, 0, 0.15);\n",
              "      filter: drop-shadow(0px 1px 2px rgba(0, 0, 0, 0.3));\n",
              "      fill: #FFFFFF;\n",
              "    }\n",
              "  </style>\n",
              "\n",
              "      <script>\n",
              "        const buttonEl =\n",
              "          document.querySelector('#df-dbf4822b-2d16-44d2-9a18-b5a571c5d045 button.colab-df-convert');\n",
              "        buttonEl.style.display =\n",
              "          google.colab.kernel.accessAllowed ? 'block' : 'none';\n",
              "\n",
              "        async function convertToInteractive(key) {\n",
              "          const element = document.querySelector('#df-dbf4822b-2d16-44d2-9a18-b5a571c5d045');\n",
              "          const dataTable =\n",
              "            await google.colab.kernel.invokeFunction('convertToInteractive',\n",
              "                                                     [key], {});\n",
              "          if (!dataTable) return;\n",
              "\n",
              "          const docLinkHtml = 'Like what you see? Visit the ' +\n",
              "            '<a target=\"_blank\" href=https://colab.research.google.com/notebooks/data_table.ipynb>data table notebook</a>'\n",
              "            + ' to learn more about interactive tables.';\n",
              "          element.innerHTML = '';\n",
              "          dataTable['output_type'] = 'display_data';\n",
              "          await google.colab.output.renderOutput(dataTable, element);\n",
              "          const docLink = document.createElement('div');\n",
              "          docLink.innerHTML = docLinkHtml;\n",
              "          element.appendChild(docLink);\n",
              "        }\n",
              "      </script>\n",
              "    </div>\n",
              "  </div>\n",
              "  "
            ]
          },
          "metadata": {},
          "execution_count": 2
        }
      ]
    },
    {
      "cell_type": "markdown",
      "source": [
        "### Visualizacion de datos"
      ],
      "metadata": {
        "id": "SpZ3YtA2Ng_j"
      }
    },
    {
      "cell_type": "code",
      "source": [
        "sns.scatterplot(data_df['Temperature'], data_df['Revenue'])"
      ],
      "metadata": {
        "colab": {
          "base_uri": "https://localhost:8080/",
          "height": 351
        },
        "id": "1ekaPbnlNleS",
        "outputId": "2cc8f9bb-c85b-437c-c0ee-93ca528f2630"
      },
      "execution_count": 3,
      "outputs": [
        {
          "output_type": "stream",
          "name": "stderr",
          "text": [
            "/usr/local/lib/python3.8/dist-packages/seaborn/_decorators.py:36: FutureWarning: Pass the following variables as keyword args: x, y. From version 0.12, the only valid positional argument will be `data`, and passing other arguments without an explicit keyword will result in an error or misinterpretation.\n",
            "  warnings.warn(\n"
          ]
        },
        {
          "output_type": "execute_result",
          "data": {
            "text/plain": [
              "<matplotlib.axes._subplots.AxesSubplot at 0x7f933a557550>"
            ]
          },
          "metadata": {},
          "execution_count": 3
        },
        {
          "output_type": "display_data",
          "data": {
            "text/plain": [
              "<Figure size 432x288 with 1 Axes>"
            ],
            "image/png": "[encoded data removed]"
          },
          "metadata": {
            "needs_background": "light"
          }
        }
      ]
    },
    {
      "cell_type": "markdown",
      "source": [
        "Como se puede observar en el grafico existe mas variacion en los datos de entrada y salida."
      ],
      "metadata": {
        "id": "Z4eJlPiqN4_V"
      }
    },
    {
      "cell_type": "markdown",
      "source": [
        "### Creando set de entrenamiento "
      ],
      "metadata": {
        "id": "Wx889SB8OAKO"
      }
    },
    {
      "cell_type": "code",
      "source": [
        "X_train = data_df['Temperature']\n",
        "y_train = data_df['Revenue']"
      ],
      "metadata": {
        "id": "CXB3_X3QODfA"
      },
      "execution_count": 4,
      "outputs": []
    },
    {
      "cell_type": "markdown",
      "source": [
        "### Creando modelo "
      ],
      "metadata": {
        "id": "paPlahIdOM8M"
      }
    },
    {
      "cell_type": "code",
      "source": [
        "model = tf.keras.Sequential()\n",
        "model.add(\n",
        "    tf.keras.layers.Dense(\n",
        "        units=1,\n",
        "        input_shape = [1]\n",
        "    )\n",
        ")\n",
        "model.summary()"
      ],
      "metadata": {
        "colab": {
          "base_uri": "https://localhost:8080/"
        },
        "id": "8Zuj8vG7OPHV",
        "outputId": "beb2e257-2cd2-4dc7-f569-832ec0b496f2"
      },
      "execution_count": 121,
      "outputs": [
        {
          "output_type": "stream",
          "name": "stdout",
          "text": [
            "Model: \"sequential_4\"\n",
            "_________________________________________________________________\n",
            " Layer (type)                Output Shape              Param #   \n",
            "=================================================================\n",
            " dense_4 (Dense)             (None, 1)                 2         \n",
            "                                                                 \n",
            "=================================================================\n",
            "Total params: 2\n",
            "Trainable params: 2\n",
            "Non-trainable params: 0\n",
            "_________________________________________________________________\n"
          ]
        }
      ]
    },
    {
      "cell_type": "markdown",
      "source": [
        "### Compilacion de modelo"
      ],
      "metadata": {
        "id": "kCIEsmEyOiG9"
      }
    },
    {
      "cell_type": "code",
      "source": [
        "model.compile(\n",
        "    optimizer=tf.keras.optimizers.Adam(0.1),\n",
        "    loss='mse'\n",
        ")"
      ],
      "metadata": {
        "id": "2lHX2kvROlT9"
      },
      "execution_count": 122,
      "outputs": []
    },
    {
      "cell_type": "markdown",
      "source": [
        "### Entrenando Modelo"
      ],
      "metadata": {
        "id": "UwgahKn_O3Z1"
      }
    },
    {
      "cell_type": "code",
      "source": [
        "epochs_hist = model.fit(X_train, y_train, epochs=1000)"
      ],
      "metadata": {
        "id": "xwRm1XpTO5ae"
      },
      "execution_count": null,
      "outputs": []
    },
    {
      "cell_type": "markdown",
      "source": [
        "### Observacion de Keys"
      ],
      "metadata": {
        "id": "KtOdDjhAP1pv"
      }
    },
    {
      "cell_type": "code",
      "source": [
        "keys = epochs_hist.history.keys()\n",
        "print(epochs_hist.history['loss'])"
      ],
      "metadata": {
        "colab": {
          "base_uri": "https://localhost:8080/"
        },
        "id": "PiSeD90oP4xc",
        "outputId": "9a507628-d174-48da-d0c2-2da5d38b8187"
      },
      "execution_count": 22,
      "outputs": [
        {
          "output_type": "stream",
          "name": "stdout",
          "text": [
            "[329139.71875, 285852.28125, 247574.828125, 212575.890625, 181466.453125, 154080.09375, 130130.3984375, 109109.6640625, 90996.203125, 75272.2421875, 61970.12890625, 50693.8828125, 41086.8203125, 33207.69921875, 26645.5234375, 21193.8671875, 16783.36328125, 13196.90234375, 10366.7275390625, 8089.193359375, 6352.6005859375, 4932.35986328125, 3864.1767578125, 3027.239990234375, 2411.670166015625, 1939.396728515625, 1586.823486328125, 1327.6121826171875, 1139.5345458984375, 1003.5911865234375, 902.1238403320312, 832.2344360351562, 782.5676879882812, 748.208740234375, 721.9157104492188, 706.4638061523438, 694.2240600585938, 686.5789794921875, 681.6727294921875, 677.7673950195312, 675.3480224609375, 674.076904296875, 672.84375, 672.1932983398438, 671.76611328125, 671.36474609375, 671.0147705078125, 670.9717407226562, 670.7750854492188, 670.7892456054688, 670.555419921875, 670.3849487304688, 670.333984375, 670.1972045898438, 670.115966796875, 670.135986328125, 669.9492797851562, 669.7261352539062, 669.6669921875, 669.5411987304688, 669.3842163085938, 669.2928466796875, 669.2955322265625, 669.0280151367188, 669.0064697265625, 668.8082885742188, 668.6626586914062, 668.5436401367188, 668.4296875, 668.2891235351562, 668.2079467773438, 668.044921875, 667.9793090820312, 668.4893798828125, 667.7900390625, 667.583251953125, 667.3120727539062, 667.2599487304688, 667.1481323242188, 666.965576171875, 666.9065551757812, 666.577392578125, 666.7108154296875, 666.42041015625, 666.3443603515625, 666.180419921875, 666.0775756835938, 665.826904296875, 665.6607055664062, 665.5327758789062, 665.6110229492188, 665.2931518554688, 665.1598510742188, 665.0081787109375, 664.7919921875, 664.836669921875, 664.7749633789062, 664.45263671875, 664.2407836914062, 664.138916015625, 663.8358154296875, 663.767333984375, 663.5263061523438, 663.4096069335938, 663.1597290039062, 663.0480346679688, 662.9223022460938, 662.673583984375, 662.5484619140625, 662.50146484375, 662.2612915039062, 662.15283203125, 661.879638671875, 661.682861328125, 661.5695190429688, 661.5492553710938, 661.482666015625, 661.5808715820312, 660.7301635742188, 660.6959838867188, 660.447509765625, 660.6796264648438, 660.1589965820312, 660.265869140625, 659.7423095703125, 659.8997802734375, 659.3826904296875, 659.4498901367188, 659.0745239257812, 658.8745727539062, 658.612548828125, 658.5137939453125, 658.2731323242188, 658.1738891601562, 658.0802612304688, 657.752685546875, 657.4922485351562, 657.8192749023438, 657.4088745117188, 657.1317138671875, 657.2696533203125, 656.7703857421875, 656.8232421875, 656.7403564453125, 656.4012451171875, 656.5112915039062, 655.7877197265625, 655.40478515625, 656.0667114257812, 655.1123657226562, 654.9609985351562, 654.6832275390625, 654.4674072265625, 654.205078125, 654.218994140625, 654.0189819335938, 653.638916015625, 653.5631103515625, 653.2271118164062, 653.1995239257812, 652.9412231445312, 652.6853637695312, 652.5844116210938, 652.2549438476562, 652.1229858398438, 652.143310546875, 651.6644287109375, 651.6046142578125, 651.3778686523438, 651.1906127929688, 651.218505859375, 650.6536865234375, 651.146728515625, 650.0917358398438, 651.3392333984375, 650.1498413085938, 649.7776489257812, 649.6734619140625, 649.808349609375, 650.0013427734375, 649.2920532226562, 648.498046875, 648.5891723632812, 648.1710205078125, 648.2774658203125, 647.8820190429688, 647.5281372070312, 647.8025512695312, 647.2717895507812, 647.3873901367188, 646.6470947265625, 646.9673461914062, 646.4397583007812, 646.1613159179688, 646.137451171875, 645.795166015625, 645.7654418945312, 645.2112426757812, 645.3118286132812, 644.9483032226562, 645.1578369140625, 644.9189453125, 644.161865234375, 644.1661376953125, 644.5120849609375, 644.743896484375, 643.5558471679688, 643.1834716796875, 644.2630004882812, 642.9086303710938, 643.1460571289062, 642.3729858398438, 642.1064453125, 642.1431884765625, 642.5999755859375, 641.8414916992188, 641.2244873046875, 642.6746215820312, 641.3278198242188, 641.4009399414062, 640.9183349609375, 641.143798828125, 640.4193115234375, 640.205322265625, 640.3222045898438, 640.3660278320312, 640.0973510742188, 641.3483276367188, 639.4081420898438, 639.1412963867188, 639.1624145507812, 638.7196044921875, 639.9627075195312, 638.9954223632812, 638.2792358398438, 638.2730712890625, 638.8980102539062, 637.7237548828125, 637.9379272460938, 637.2402954101562, 637.0369873046875, 636.99853515625, 636.753662109375, 636.4017333984375, 636.50341796875, 637.3974609375, 636.1666870117188, 635.6013793945312, 636.3239135742188, 635.9415283203125, 636.9661865234375, 636.445556640625, 635.1349487304688, 635.1007080078125, 635.1270751953125, 634.6423950195312, 635.5463256835938, 633.8482055664062, 633.9849853515625, 634.0315551757812, 634.2702026367188, 633.4815063476562, 633.5904541015625, 635.0689086914062, 633.5975341796875, 633.1911010742188, 632.8243408203125, 633.0289916992188, 634.3079223632812, 632.5658569335938, 632.860107421875, 632.40478515625, 631.9453735351562, 633.8605346679688, 632.4954833984375, 631.6719360351562, 631.4016723632812, 632.2659912109375, 631.0726318359375, 630.9423217773438, 631.6451416015625, 631.4737548828125, 631.3624267578125, 630.8388671875, 631.4119262695312, 631.065673828125, 631.9229736328125, 629.1176147460938, 630.1995239257812, 630.7689208984375, 628.9979248046875, 630.5956420898438, 629.5707397460938, 629.2001342773438, 629.1378784179688, 630.1005859375, 628.717041015625, 629.2515258789062, 628.4415283203125, 628.7535400390625, 628.91845703125, 628.3307495117188, 630.3070068359375, 629.102783203125, 631.6514282226562, 630.6227416992188, 633.0355224609375, 628.7415771484375, 628.6881713867188, 627.7761840820312, 628.694091796875, 627.697998046875, 627.3974609375, 627.9447631835938, 628.514892578125, 627.7599487304688, 629.1091918945312, 628.9710083007812, 631.8693237304688, 629.130859375, 627.0057983398438, 627.7827758789062, 629.5232543945312, 626.959228515625, 626.3311157226562, 626.6295776367188, 627.0131225585938, 626.1218872070312, 627.2592163085938, 628.0606079101562, 626.7133178710938, 625.7213745117188, 628.7620849609375, 627.3015747070312, 626.1287841796875, 626.4197387695312, 627.8511352539062, 627.9960327148438, 625.1507568359375, 626.3316040039062, 627.1612548828125, 629.1890258789062, 625.1426391601562, 625.6083374023438, 627.59814453125, 626.1092529296875, 626.4022216796875, 624.5523071289062, 625.6387939453125, 626.2836303710938, 625.4548950195312, 629.9100341796875, 624.8477172851562, 624.7057495117188, 628.5914916992188, 625.2924194335938, 626.636474609375, 626.6561279296875, 625.8555297851562, 628.0575561523438, 626.2520141601562, 626.3696899414062, 625.3005981445312, 626.2505493164062, 626.7286376953125, 625.3599853515625, 624.1748657226562, 626.3417358398438, 624.714111328125, 624.3553466796875, 629.5240478515625, 631.0205688476562, 623.2525634765625, 627.0252075195312, 628.7593383789062, 625.4505615234375, 624.5089721679688, 624.7717895507812, 627.9491577148438, 625.3617553710938, 632.9575805664062, 623.8394775390625, 625.4190673828125, 626.1876220703125, 626.7359619140625, 627.4285278320312, 623.036376953125, 624.768798828125, 624.974853515625, 625.3798828125, 624.7408447265625, 624.4853515625, 628.4804077148438, 629.6240844726562, 624.7177124023438, 625.9904174804688, 627.4779663085938, 626.0700073242188, 623.540771484375, 626.5679321289062, 628.1268920898438, 624.370849609375, 626.5213623046875, 625.6475219726562, 623.96630859375, 627.7247314453125, 623.95166015625, 626.4985961914062, 632.3163452148438, 624.994873046875, 624.1389770507812, 628.4991455078125, 625.8180541992188, 628.7576904296875, 626.142578125, 624.313232421875, 624.4945068359375, 623.5918579101562, 630.52783203125, 626.9762573242188, 623.7569580078125, 623.826904296875, 624.9270629882812, 628.1461181640625, 625.4512329101562, 627.0596923828125, 625.1781005859375, 624.843017578125, 625.9445190429688, 623.97314453125, 625.3037719726562, 624.3938598632812, 626.6466064453125, 626.4955444335938, 628.3406982421875, 625.6591796875, 625.6124877929688, 626.5084228515625, 627.20458984375, 625.7697143554688, 625.9273681640625, 627.5662231445312, 624.3609008789062, 624.6495361328125, 627.2344360351562, 626.7433471679688, 626.83642578125, 625.5244140625, 625.1356201171875, 625.680419921875, 626.4818725585938, 628.7076416015625, 630.7232666015625, 632.3690795898438, 627.8658447265625, 625.8660278320312, 623.593505859375, 627.4761352539062, 626.5067138671875, 625.9710693359375, 626.0505981445312, 624.9011840820312, 625.1317749023438, 624.6812133789062, 626.3040161132812, 626.7935180664062, 626.2342529296875, 625.17236328125, 624.6941528320312, 626.678466796875, 628.4208374023438, 625.1091918945312, 629.6353149414062, 623.2067260742188, 624.5755004882812, 624.2587890625, 624.9214477539062, 625.2481689453125, 623.9467163085938, 624.2106323242188, 624.005126953125, 625.2335815429688, 625.8739624023438, 626.9701538085938, 625.8211059570312, 629.609619140625, 624.83447265625, 624.7208862304688, 625.9722900390625, 625.1146850585938, 625.209716796875, 623.701171875, 623.9895629882812, 624.102783203125, 628.6054077148438, 629.3779296875, 627.7579956054688, 624.1064453125, 624.790771484375, 624.376708984375, 625.9453125, 628.1943969726562, 629.754638671875, 629.6099243164062, 626.1810302734375, 626.8303833007812, 626.9605712890625, 624.1525268554688, 630.5372924804688, 626.5610961914062, 627.567626953125, 630.8832397460938, 631.20068359375, 624.9317016601562, 624.4020385742188, 628.8582763671875, 625.2595825195312, 633.9970703125, 626.1461791992188, 625.2821044921875, 625.95068359375, 628.9481201171875, 631.2679443359375, 625.7064208984375, 624.58154296875, 625.2108764648438, 628.1936645507812, 632.5912475585938, 626.9931030273438, 633.8733520507812, 627.5700073242188, 626.0460815429688, 624.4515991210938, 624.0769653320312, 628.7728271484375, 626.0527954101562, 624.7427368164062, 627.0496215820312, 625.4506225585938, 624.1339721679688, 625.6433715820312, 629.1420288085938, 626.4087524414062, 628.1736450195312, 626.2556762695312, 624.62548828125, 624.1392211914062, 626.2973022460938, 629.345947265625, 629.3030395507812, 635.2677612304688, 628.1758422851562, 627.0410766601562, 624.656494140625, 624.606689453125, 628.193603515625, 626.6353759765625, 625.9850463867188, 629.7400512695312, 624.7861328125, 625.6546630859375, 624.9833984375, 625.1093139648438, 625.1052856445312, 626.570556640625, 630.3587036132812, 627.9873046875, 625.2833862304688, 625.998291015625, 625.813720703125, 626.5546875, 624.232666015625, 625.08935546875, 623.849609375, 627.6790161132812, 625.8111572265625, 625.837890625, 628.1798706054688, 643.7537231445312, 628.3470458984375, 624.20947265625, 625.338134765625, 624.6883544921875, 626.3729858398438, 629.4693603515625, 627.9835815429688, 633.703369140625, 629.0156860351562, 627.6517333984375, 633.7384643554688, 625.2486572265625, 626.061279296875, 625.207763671875, 624.4293823242188, 623.7106323242188, 624.8978271484375, 631.1632690429688, 628.2533569335938, 626.3858032226562, 628.7988891601562, 626.677734375, 626.1213989257812, 627.6493530273438, 626.8767700195312, 624.3579711914062, 625.8533935546875, 627.9054565429688, 627.3729858398438, 627.3474731445312, 632.0716552734375, 642.6214599609375, 627.5108032226562, 624.57568359375, 625.1519165039062, 626.9358520507812, 627.50830078125, 627.6486206054688, 625.2149658203125, 630.8299560546875, 631.172607421875, 625.3370971679688, 630.8397827148438, 628.135986328125, 624.8759155273438, 626.3870849609375, 628.060791015625, 624.3866577148438, 624.5786743164062, 626.2998046875, 625.8453369140625, 624.2952880859375, 626.1268920898438, 634.4265747070312, 631.4650268554688, 631.1211547851562, 623.2489013671875, 624.818603515625, 625.1294555664062, 624.0944213867188, 624.9905395507812, 627.4754638671875, 627.308837890625, 631.07568359375, 630.17626953125, 622.9876098632812, 625.9468994140625, 626.889892578125, 624.8057250976562, 625.065185546875, 626.588623046875, 626.9053955078125, 624.6901245117188, 630.6221923828125, 625.7728881835938, 627.591796875, 627.0008544921875, 625.912109375, 631.9576416015625, 626.70849609375, 627.2587280273438, 628.798583984375, 624.8543090820312, 631.7554931640625, 627.4734497070312, 626.2639770507812, 628.0387573242188, 626.3547973632812, 631.2744750976562, 625.2717895507812, 625.6290893554688, 625.1927490234375, 624.4834594726562, 631.200927734375, 629.9887084960938, 631.3140258789062, 632.2532958984375, 630.5538940429688, 625.143798828125, 631.5505981445312, 632.35498046875, 630.81787109375, 625.0857543945312, 626.1917724609375, 628.9906005859375, 637.8258666992188, 629.243896484375, 633.3536376953125, 623.8748168945312, 630.8845825195312, 625.8690795898438, 630.1910400390625, 623.763671875, 627.264892578125, 624.9627685546875, 626.1115112304688, 625.6976928710938, 624.6170043945312, 642.4581909179688, 626.426513671875, 627.4147338867188, 628.087890625, 627.7744140625, 630.743896484375, 627.6649780273438, 623.2633056640625, 630.3768920898438, 625.7262573242188, 624.8655395507812, 625.00927734375, 628.0992431640625, 624.66064453125, 625.8277587890625, 626.9867553710938, 626.9224853515625, 625.4599609375, 626.1273193359375, 627.0999145507812, 628.2763671875, 628.55517578125, 632.8950805664062, 644.2453002929688, 628.5084228515625, 631.6412353515625, 625.6907958984375, 626.841552734375, 627.3775634765625, 624.8118286132812, 625.8492431640625, 627.5902709960938, 624.8750610351562, 627.861328125, 631.4887084960938, 629.6212768554688, 629.685546875, 623.6995239257812, 625.8091430664062, 631.5965576171875, 631.8667602539062, 636.0171508789062, 626.1715087890625, 624.0371704101562, 630.2777709960938, 623.1359252929688, 627.5596313476562, 625.9638671875, 625.4379272460938, 626.1884155273438, 628.1405639648438, 626.43115234375, 630.3779296875, 626.9766845703125, 625.0823364257812, 628.5861206054688, 630.9954833984375, 632.8679809570312, 630.9152221679688, 627.4996948242188, 629.161865234375, 626.3743286132812, 634.46142578125, 627.087890625, 626.9631958007812, 626.8262939453125, 625.9449462890625, 625.077880859375, 626.3849487304688, 628.5711669921875, 627.8075561523438, 625.0770263671875, 628.2973022460938, 629.540283203125, 625.2050170898438, 625.1633911132812, 628.9931030273438, 633.4013061523438, 630.4046630859375, 627.7626342773438, 626.7880859375, 625.3697509765625, 623.907470703125, 625.9404296875, 625.9306030273438, 628.0938720703125, 624.6292724609375, 625.985107421875, 630.9710083007812, 625.451416015625, 627.6668701171875, 635.1092529296875, 640.9562377929688, 625.1127319335938, 625.494873046875, 630.022216796875, 626.544677734375, 629.561767578125, 628.5486450195312, 631.3573608398438, 638.6870727539062, 623.738037109375, 626.0689086914062, 637.465087890625, 638.2973022460938, 629.4977416992188, 623.8096313476562, 624.9209594726562, 628.3704223632812, 624.8074340820312, 625.1403198242188, 624.303466796875, 626.125, 628.7742919921875, 626.8689575195312, 628.1519775390625, 625.8399047851562, 624.3782348632812, 626.4287109375, 626.4359741210938, 627.7301025390625, 636.2017822265625, 635.0816650390625, 637.0953369140625, 624.646484375, 629.9064331054688, 648.3701782226562, 631.0957641601562, 623.631103515625, 638.052978515625, 621.4450073242188, 625.89990234375, 633.0531616210938, 627.5357055664062, 626.7501831054688, 624.7373657226562, 624.4720458984375, 625.2982177734375, 623.4308471679688, 625.86572265625, 625.6177368164062, 626.2181396484375, 626.389404296875, 622.8945922851562, 625.4647827148438, 629.671630859375, 628.6297607421875, 628.665771484375, 626.7325439453125, 627.925048828125, 626.6839599609375, 626.576904296875, 633.4282836914062, 629.915283203125, 627.9679565429688, 628.1064453125, 627.9861450195312, 627.3917846679688, 627.9065551757812, 624.2819213867188, 626.0971069335938, 623.12255859375, 630.9899291992188, 629.5397338867188, 623.8030395507812, 627.2455444335938, 631.715576171875, 627.4718017578125, 628.982666015625, 627.2891235351562, 626.2655029296875, 625.9317626953125, 630.1829833984375, 625.8335571289062, 626.2528076171875, 626.1755981445312, 625.9921264648438, 624.9291381835938, 625.4776611328125, 625.054443359375, 625.5772094726562, 624.3419189453125, 625.8656616210938, 627.070068359375, 628.3843383789062, 626.3917846679688, 629.4835815429688, 624.4555053710938, 624.6681518554688, 628.490234375, 626.1231079101562, 625.56201171875, 623.8538818359375, 627.8548583984375, 627.5259399414062, 625.760009765625, 627.1331787109375, 633.7318115234375, 631.3922119140625, 626.342529296875, 632.268798828125, 629.15869140625, 628.6442260742188, 641.1605224609375, 625.3867797851562, 623.7222290039062, 624.8544921875, 628.8102416992188, 626.9994506835938, 625.5572509765625, 625.4103393554688, 624.578857421875, 633.017578125, 631.7196655273438, 632.794677734375, 626.0407104492188, 641.3982543945312, 625.5603637695312, 630.7949829101562, 636.3963012695312, 634.5635375976562, 635.1895141601562, 627.9401245117188, 625.9087524414062, 623.7623291015625, 627.1398315429688, 628.81396484375, 642.5926513671875, 637.4788818359375, 626.7811279296875, 625.9170532226562, 631.056884765625, 631.11279296875, 622.6923217773438, 628.7872924804688, 624.2172241210938, 633.9334716796875, 628.3051147460938, 629.3305053710938, 633.4146118164062, 627.34375, 629.33935546875, 624.3471069335938, 626.5078735351562, 635.6431884765625, 639.0142822265625, 633.9942626953125, 631.715576171875, 630.00537109375, 628.1126098632812, 623.606689453125, 630.685546875, 627.2470703125, 630.9295654296875, 640.5968627929688, 639.1859741210938, 627.5994873046875, 625.1763916015625, 628.1277465820312, 632.904052734375, 625.6683349609375, 630.5660400390625, 626.3505859375, 632.0348510742188, 626.4766235351562, 624.498046875, 624.535888671875, 630.12841796875, 625.6754760742188, 633.8916625976562, 628.1783447265625, 628.1234130859375, 629.4772338867188, 623.8717041015625, 625.3333740234375, 624.3513793945312, 625.8449096679688, 624.680419921875, 626.2260131835938, 625.4022216796875, 629.9277954101562, 638.0107421875, 623.7321166992188, 624.4857177734375, 629.5263061523438, 630.44775390625, 626.9042358398438, 624.8524169921875, 626.8245239257812, 628.4575805664062, 624.709228515625, 623.7901611328125, 625.6069946289062, 628.2902221679688, 627.1808471679688, 625.678955078125, 624.9148559570312, 624.3307495117188, 624.8455200195312, 628.63134765625, 626.2289428710938, 625.1552124023438, 624.960693359375]\n"
          ]
        }
      ]
    },
    {
      "cell_type": "markdown",
      "source": [
        "### Grafico de entrenamiento del modelo"
      ],
      "metadata": {
        "id": "LlTt_cjwQHVJ"
      }
    },
    {
      "cell_type": "code",
      "source": [
        "epochs_hist.history.keys()\n",
        "plt.plot(epochs_hist.history['loss'])\n",
        "plt.title('Proceso de perdida durante el entranamiento del modelo')\n",
        "plt.xlabel('Epocas de entrenamiento')\n",
        "plt.ylabel('Perdida')\n",
        "plt.legend('Training Loss')"
      ],
      "metadata": {
        "colab": {
          "base_uri": "https://localhost:8080/",
          "height": 312
        },
        "id": "nou9V-0TQKMR",
        "outputId": "089d2786-fa42-4335-a008-b134a9314910"
      },
      "execution_count": 13,
      "outputs": [
        {
          "output_type": "execute_result",
          "data": {
            "text/plain": [
              "<matplotlib.legend.Legend at 0x7f9332724ac0>"
            ]
          },
          "metadata": {},
          "execution_count": 13
        },
        {
          "output_type": "display_data",
          "data": {
            "text/plain": [
              "<Figure size 432x288 with 1 Axes>"
            ],
            "image/png": "[encoded data removed]"
          },
          "metadata": {
            "needs_background": "light"
          }
        }
      ]
    },
    {
      "cell_type": "markdown",
      "source": [
        "### Obtencion de pesos del modelo"
      ],
      "metadata": {
        "id": "uAvX6kFQQiJe"
      }
    },
    {
      "cell_type": "code",
      "source": [
        "weights = model.get_weights()\n",
        "print(weights)"
      ],
      "metadata": {
        "colab": {
          "base_uri": "https://localhost:8080/"
        },
        "id": "ndCVUAXeQlO-",
        "outputId": "94ec2057-97b4-417c-8855-46d108535b9b"
      },
      "execution_count": 14,
      "outputs": [
        {
          "output_type": "stream",
          "name": "stdout",
          "text": [
            "[array([[21.430172]], dtype=float32), array([44.818012], dtype=float32)]\n"
          ]
        }
      ]
    },
    {
      "cell_type": "markdown",
      "source": [
        "### Realizando prediccion "
      ],
      "metadata": {
        "id": "ZBJlnl-yQwv5"
      }
    },
    {
      "cell_type": "code",
      "source": [
        "Temperatura_prediccion = 18\n",
        "revenue_alt = model.predict([Temperatura_prediccion])\n",
        "\n",
        "print(f'La ganancia cuando la temperatura este a {Temperatura_prediccion} sera de : {revenue_alt}')"
      ],
      "metadata": {
        "colab": {
          "base_uri": "https://localhost:8080/"
        },
        "id": "Ms9uDmsJQzvP",
        "outputId": "5b59c562-bddf-44d7-94dd-cc1f75a57774"
      },
      "execution_count": 124,
      "outputs": [
        {
          "output_type": "stream",
          "name": "stdout",
          "text": [
            "1/1 [==============================] - 0s 53ms/step\n",
            "La ganancia cuando la temperatura este a 18 sera de : [[431.7677]]\n"
          ]
        }
      ]
    },
    {
      "cell_type": "markdown",
      "source": [
        "### Obtencion del MSE\n",
        "MSE o Mean Squared Error de predicción tiene como objetivo encontrar el error cuadrático promedio entre los valores reales y los valores predichos"
      ],
      "metadata": {
        "id": "WAH-ZxOlcbX-"
      }
    },
    {
      "cell_type": "code",
      "source": [
        "prediction = model.predict(X_train)\n",
        "predict = []\n",
        "true = y_train.tolist()\n",
        "for i in prediction:\n",
        "  predict.append(i[0])\n",
        "\n",
        "MSE_scaled = tf.keras.metrics.mean_squared_error(y_train, predict)\n",
        "MSE_scaled"
      ],
      "metadata": {
        "colab": {
          "base_uri": "https://localhost:8080/"
        },
        "id": "EnuPBxnKdBo5",
        "outputId": "7050754d-2685-4805-804e-7b0ea2bd346e"
      },
      "execution_count": 168,
      "outputs": [
        {
          "output_type": "stream",
          "name": "stdout",
          "text": [
            "16/16 [==============================] - 0s 1ms/step\n"
          ]
        },
        {
          "output_type": "execute_result",
          "data": {
            "text/plain": [
              "<tf.Tensor: shape=(), dtype=float32, numpy=624.5495>"
            ]
          },
          "metadata": {},
          "execution_count": 168
        }
      ]
    },
    {
      "cell_type": "markdown",
      "source": [
        "### Grafico de prediccion"
      ],
      "metadata": {
        "id": "Obh2eQiQRoIZ"
      }
    },
    {
      "cell_type": "code",
      "source": [
        "plt.scatter(X_train, y_train, color='gray')\n",
        "plt.plot(X_train, model.predict(X_train), color='red')\n",
        "plt.ylabel('Ganancia en dolares')\n",
        "plt.xlabel('Temperatura en grados celsius')\n",
        "plt.title('Predicccion de ganancias segun la temperatura.')"
      ],
      "metadata": {
        "colab": {
          "base_uri": "https://localhost:8080/",
          "height": 330
        },
        "id": "uKLNLFXPRqWw",
        "outputId": "66d010ba-f3ad-4b43-82b3-95b64147dff2"
      },
      "execution_count": 17,
      "outputs": [
        {
          "output_type": "stream",
          "name": "stdout",
          "text": [
            "16/16 [==============================] - 0s 1ms/step\n"
          ]
        },
        {
          "output_type": "execute_result",
          "data": {
            "text/plain": [
              "Text(0.5, 1.0, 'Predicccion de ganancias segun la temperatura.')"
            ]
          },
          "metadata": {},
          "execution_count": 17
        },
        {
          "output_type": "display_data",
          "data": {
            "text/plain": [
              "<Figure size 432x288 with 1 Axes>"
            ],
            "image/png": "[encoded data removed]"
          },
          "metadata": {
            "needs_background": "light"
          }
        }
      ]
    },
    {
      "cell_type": "code",
      "source": [
        "# Convert Multi-dimensional NumPy Array to List\n",
        "arr = np.array([[3,6,9], [2,5,8]])\n",
        "print(f'NumPy Array:\\n{arr}')\n",
        "\n",
        "# Use tolist() Method\n",
        "list = arr.tolist()\n",
        "print(f'List: {list}')"
      ],
      "metadata": {
        "colab": {
          "base_uri": "https://localhost:8080/"
        },
        "id": "p4cC9FWZpVyc",
        "outputId": "7ef51b13-5536-4fcb-9cc3-44166e5b5241"
      },
      "execution_count": 143,
      "outputs": [
        {
          "output_type": "stream",
          "name": "stdout",
          "text": [
            "NumPy Array:\n",
            "[[3 6 9]\n",
            " [2 5 8]]\n",
            "List: [[3, 6, 9], [2, 5, 8]]\n"
          ]
        }
      ]
    }
  ]
}